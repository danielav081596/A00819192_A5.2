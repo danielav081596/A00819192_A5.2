{
  "nbformat": 4,
  "nbformat_minor": 0,
  "metadata": {
    "colab": {
      "provenance": [],
      "include_colab_link": true
    },
    "kernelspec": {
      "name": "python3",
      "display_name": "Python 3"
    },
    "language_info": {
      "name": "python"
    }
  },
  "cells": [
    {
      "cell_type": "markdown",
      "metadata": {
        "id": "view-in-github",
        "colab_type": "text"
      },
      "source": [
        "<a href=\"https://colab.research.google.com/github/danielav081596/A00819192_A5.2/blob/main/A00819192_A5_2.ipynb\" target=\"_parent\"><img src=\"https://colab.research.google.com/assets/colab-badge.svg\" alt=\"Open In Colab\"/></a>"
      ]
    },
    {
      "cell_type": "code",
      "source": [
        "!pip install flake8 pylint"
      ],
      "metadata": {
        "colab": {
          "base_uri": "https://localhost:8080/"
        },
        "id": "1HgS4WC8LXvI",
        "outputId": "dfd77592-d170-40b9-9bf4-0c85d2170691"
      },
      "execution_count": null,
      "outputs": [
        {
          "output_type": "stream",
          "name": "stdout",
          "text": [
            "Collecting flake8\n",
            "  Downloading flake8-7.0.0-py2.py3-none-any.whl (57 kB)\n",
            "\u001b[2K     \u001b[90m━━━━━━━━━━━━━━━━━━━━━━━━━━━━━━━━━━━━━━━━\u001b[0m \u001b[32m57.6/57.6 kB\u001b[0m \u001b[31m2.3 MB/s\u001b[0m eta \u001b[36m0:00:00\u001b[0m\n",
            "\u001b[?25hCollecting pylint\n",
            "  Downloading pylint-3.0.3-py3-none-any.whl (510 kB)\n",
            "\u001b[2K     \u001b[90m━━━━━━━━━━━━━━━━━━━━━━━━━━━━━━━━━━━━━━━━\u001b[0m \u001b[32m510.6/510.6 kB\u001b[0m \u001b[31m8.1 MB/s\u001b[0m eta \u001b[36m0:00:00\u001b[0m\n",
            "\u001b[?25hCollecting mccabe<0.8.0,>=0.7.0 (from flake8)\n",
            "  Downloading mccabe-0.7.0-py2.py3-none-any.whl (7.3 kB)\n",
            "Collecting pycodestyle<2.12.0,>=2.11.0 (from flake8)\n",
            "  Downloading pycodestyle-2.11.1-py2.py3-none-any.whl (31 kB)\n",
            "Collecting pyflakes<3.3.0,>=3.2.0 (from flake8)\n",
            "  Downloading pyflakes-3.2.0-py2.py3-none-any.whl (62 kB)\n",
            "\u001b[2K     \u001b[90m━━━━━━━━━━━━━━━━━━━━━━━━━━━━━━━━━━━━━━━━\u001b[0m \u001b[32m62.7/62.7 kB\u001b[0m \u001b[31m7.1 MB/s\u001b[0m eta \u001b[36m0:00:00\u001b[0m\n",
            "\u001b[?25hRequirement already satisfied: platformdirs>=2.2.0 in /usr/local/lib/python3.10/dist-packages (from pylint) (4.2.0)\n",
            "Collecting astroid<=3.1.0-dev0,>=3.0.1 (from pylint)\n",
            "  Downloading astroid-3.0.3-py3-none-any.whl (275 kB)\n",
            "\u001b[2K     \u001b[90m━━━━━━━━━━━━━━━━━━━━━━━━━━━━━━━━━━━━━━━━\u001b[0m \u001b[32m275.2/275.2 kB\u001b[0m \u001b[31m9.7 MB/s\u001b[0m eta \u001b[36m0:00:00\u001b[0m\n",
            "\u001b[?25hCollecting isort!=5.13.0,<6,>=4.2.5 (from pylint)\n",
            "  Downloading isort-5.13.2-py3-none-any.whl (92 kB)\n",
            "\u001b[2K     \u001b[90m━━━━━━━━━━━━━━━━━━━━━━━━━━━━━━━━━━━━━━━━\u001b[0m \u001b[32m92.3/92.3 kB\u001b[0m \u001b[31m9.8 MB/s\u001b[0m eta \u001b[36m0:00:00\u001b[0m\n",
            "\u001b[?25hCollecting tomlkit>=0.10.1 (from pylint)\n",
            "  Downloading tomlkit-0.12.3-py3-none-any.whl (37 kB)\n",
            "Collecting dill>=0.2 (from pylint)\n",
            "  Downloading dill-0.3.8-py3-none-any.whl (116 kB)\n",
            "\u001b[2K     \u001b[90m━━━━━━━━━━━━━━━━━━━━━━━━━━━━━━━━━━━━━━━━\u001b[0m \u001b[32m116.3/116.3 kB\u001b[0m \u001b[31m6.7 MB/s\u001b[0m eta \u001b[36m0:00:00\u001b[0m\n",
            "\u001b[?25hRequirement already satisfied: tomli>=1.1.0 in /usr/local/lib/python3.10/dist-packages (from pylint) (2.0.1)\n",
            "Requirement already satisfied: typing-extensions>=4.0.0 in /usr/local/lib/python3.10/dist-packages (from astroid<=3.1.0-dev0,>=3.0.1->pylint) (4.9.0)\n",
            "Installing collected packages: tomlkit, pyflakes, pycodestyle, mccabe, isort, dill, astroid, pylint, flake8\n",
            "Successfully installed astroid-3.0.3 dill-0.3.8 flake8-7.0.0 isort-5.13.2 mccabe-0.7.0 pycodestyle-2.11.1 pyflakes-3.2.0 pylint-3.0.3 tomlkit-0.12.3\n"
          ]
        }
      ]
    },
    {
      "cell_type": "code",
      "source": [
        "%%writefile A00819192_A52.py\n",
        "\n",
        "import json\n",
        "import requests\n",
        "\n",
        "# Define el timeout para las solicitudes\n",
        "TIMEOUT = 5\n",
        "\n",
        "# URL para el catálogo de precios\n",
        "PRICE_CATALOG_URL = (\n",
        "    'https://raw.githubusercontent.com/usuario/repositorio/'\n",
        "    'rama/TC1.ProductList.json'\n",
        ")\n",
        "price_catalog_response = requests.get(PRICE_CATALOG_URL, timeout=TIMEOUT)\n",
        "price_catalog_data = json.loads(price_catalog_response.text)\n",
        "\n",
        "# URLs para los registros de ventas\n",
        "SALES_URLS = [\n",
        "    'https://raw.githubusercontent.com/danielav081596/A00819192_A5.2/main/TC1.Sales.json',\n",
        "    'https://raw.githubusercontent.com/danielav081596/A00819192_A5.2/main/TC2.Sales.json',\n",
        "    'https://raw.githubusercontent.com/danielav081596/A00819192_A5.2/main/TC3.Sales.json',\n",
        "]\n",
        "\n",
        "sales_record_files = []\n",
        "for sales_url in SALES_URLS:\n",
        "    response = requests.get(sales_url, timeout=TIMEOUT)\n",
        "    sales_data = json.loads(response.text)\n",
        "    sales_record_files.append(sales_data)\n",
        "\n",
        "def calculate_sales_total(price_catalog, sales_record):\n",
        "    \"\"\"\n",
        "    Calcula el total de ventas dado un catálogo de precios y un registro de ventas.\n",
        "    \"\"\"\n",
        "    total_sales = 0\n",
        "    for sale in sales_record:\n",
        "        product_name = sale['Product']\n",
        "        quantity = sale['Quantity']\n",
        "        if product_name in price_catalog:\n",
        "            total_sales += price_catalog[product_name] * quantity\n",
        "        else:\n",
        "            print(f\"Warning: Product {product_name} not found in price catalog.\")\n",
        "    return total_sales\n",
        "\n",
        "def main():\n",
        "    \"\"\"\n",
        "    Función principal que ejecuta el cálculo del total de ventas.\n",
        "    \"\"\"\n",
        "    price_catalog = {item['title']: item['price'] for item in price_catalog_data}\n",
        "\n",
        "    # Asegúrate de especificar correctamente el path y modo de apertura de archivos\n",
        "    with open(\"SalesResults.txt\", \"w\", encoding='utf-8') as file:\n",
        "        for sales_record in sales_record_files:\n",
        "            total_sales = calculate_sales_total(price_catalog, sales_record)\n",
        "            file.write(f\"Total Sales: ${total_sales:.2f}\\n\")"
      ],
      "metadata": {
        "colab": {
          "base_uri": "https://localhost:8080/"
        },
        "id": "l9RP1c4HGde8",
        "outputId": "f34a23e4-c2e6-4648-9ae3-4a96ac91084b"
      },
      "execution_count": 39,
      "outputs": [
        {
          "output_type": "stream",
          "name": "stdout",
          "text": [
            "Writing A00819192_A52.py\n"
          ]
        }
      ]
    },
    {
      "cell_type": "code",
      "source": [
        "!flake8 --ignore=E501,E302,W391 A00819192_A52.py\n",
        "!pylint A00819192_A52.py\n",
        "\n",
        "if __name__ == \"__main__\":\n",
        "    main()"
      ],
      "metadata": {
        "id": "Vdny4toVN9fQ",
        "colab": {
          "base_uri": "https://localhost:8080/"
        },
        "outputId": "25e32760-d83b-48f3-cefc-23e0a8d63972"
      },
      "execution_count": 41,
      "outputs": [
        {
          "output_type": "stream",
          "name": "stdout",
          "text": [
            "************* Module A00819192_A52\n",
            "A00819192_A52.py:1:0: C0114: Missing module docstring (missing-module-docstring)\n",
            "A00819192_A52.py:1:0: C0103: Module name \"A00819192_A52\" doesn't conform to snake_case naming style (invalid-name)\n",
            "\n",
            "------------------------------------------------------------------\n",
            "Your code has been rated at 9.26/10 (previous run: 9.26/10, +0.00)\n",
            "\n",
            "Total Sales: $2481.86\n",
            "Total Sales: $166568.23\n",
            "Warning: Product Elotes not found in price catalog.\n",
            "Warning: Product Frijoles not found in price catalog.\n",
            "Total Sales: $165235.37\n"
          ]
        }
      ]
    }
  ]
}